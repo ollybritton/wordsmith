{
 "cells": [
  {
   "cell_type": "code",
   "execution_count": 2,
   "id": "00119a8b-be00-4be2-8ce7-74dd1154dda3",
   "metadata": {},
   "outputs": [],
   "source": [
    "import math\n",
    "from tqdm import tqdm"
   ]
  },
  {
   "cell_type": "code",
   "execution_count": 3,
   "id": "e71751cc-4809-4425-9919-43cb3e84bdfe",
   "metadata": {},
   "outputs": [],
   "source": [
    "ENGLISH_DIST = {\n",
    "    \"E\": 0.1100,\n",
    "    \"S\": 0.0870,\n",
    "    \"I\": 0.0860,\n",
    "    \"A\": 0.0780,\n",
    "    \"R\": 0.0730,\n",
    "    \"N\": 0.0720,\n",
    "    \"T\": 0.0670,\n",
    "    \"O\": 0.0610,\n",
    "    \"L\": 0.0530,\n",
    "    \"C\": 0.0400,\n",
    "    \"D\": 0.0380,\n",
    "    \"U\": 0.0330,\n",
    "    \"G\": 0.0300,\n",
    "    \"P\": 0.0280,\n",
    "    \"M\": 0.0270,\n",
    "    \"H\": 0.0230,\n",
    "    \"B\": 0.0200,\n",
    "    \"Y\": 0.0160,\n",
    "    \"F\": 0.0140,\n",
    "    \"V\": 0.0100,\n",
    "    \"K\": 0.0097,\n",
    "    \"W\": 0.0091,\n",
    "    \"Z\": 0.0044,\n",
    "    \"X\": 0.0027,\n",
    "    \"J\": 0.0021,\n",
    "    \"Q\": 0.0019,\n",
    "}"
   ]
  },
  {
   "cell_type": "code",
   "execution_count": 4,
   "id": "37968f18-cbf0-4257-b389-6b2a2136f3fa",
   "metadata": {},
   "outputs": [],
   "source": [
    "with open(\"5-letter-words.txt\", \"r\") as f:\n",
    "    content = f.read().strip()\n",
    "    words = content.split(\"\\n\")"
   ]
  },
  {
   "cell_type": "code",
   "execution_count": 5,
   "id": "04510db4-0c12-49e0-8b70-9af48b7cdfe5",
   "metadata": {},
   "outputs": [
    {
     "name": "stderr",
     "output_type": "stream",
     "text": [
      "100%|██████████████████████████████████████████████████████████████████████████████████████████████████████████████████████████████████████████████████████████████████| 5757/5757 [00:33<00:00, 172.56it/s]\n"
     ]
    }
   ],
   "source": [
    "mutations = {}\n",
    "alphabet = list(\"abcdefghijklmnopqrstuvwxyz\")\n",
    "\n",
    "for word in tqdm(words):\n",
    "    for i in range(5):\n",
    "        for char in alphabet:\n",
    "            new = list(word)\n",
    "            new[i] = char\n",
    "            new = \"\".join(new)\n",
    "            \n",
    "            if new in words:\n",
    "                if mutations.get(word) == None:\n",
    "                    mutations[word] = [new]\n",
    "                elif new not in mutations[word]:\n",
    "                    mutations[word].append(new)"
   ]
  },
  {
   "cell_type": "code",
   "execution_count": 6,
   "id": "3a88827b-e14f-4cbb-8445-72f71e2502de",
   "metadata": {},
   "outputs": [
    {
     "data": {
      "text/plain": [
       "'cores'"
      ]
     },
     "execution_count": 6,
     "metadata": {},
     "output_type": "execute_result"
    }
   ],
   "source": [
    "max(mutations, key=lambda x: len(mutations[x]))"
   ]
  },
  {
   "cell_type": "code",
   "execution_count": 7,
   "id": "be6647bd-14dd-4aee-a822-144693579990",
   "metadata": {},
   "outputs": [
    {
     "name": "stdout",
     "output_type": "stream",
     "text": [
      "cores bores, cores, fores, gores, lores, mores, pores, sores, yores, cares, cures, codes, cokes, comes, cones, copes, cotes, coves, coxes, cords, corks, corms, corns, corps, cored, corer\n",
      "bares bares, cares, dares, fares, hares, mares, nares, pares, tares, wares, bores, byres, babes, bakes, bales, banes, bases, bates, barbs, bards, barfs, barks, barms, barns, bared, barer\n"
     ]
    }
   ],
   "source": [
    "for word, edits in mutations.items():\n",
    "    if len(edits) == 26:\n",
    "        print(word, \", \".join(edits))"
   ]
  },
  {
   "cell_type": "code",
   "execution_count": 8,
   "id": "dc849edd-e256-4687-8841-b207fd917ab8",
   "metadata": {},
   "outputs": [],
   "source": [
    "probabilistic_mutation_scores = {}"
   ]
  },
  {
   "cell_type": "code",
   "execution_count": 9,
   "id": "34dbee63-dee9-430b-a2d1-0a18b2c1c08d",
   "metadata": {},
   "outputs": [],
   "source": [
    "for word, edits in mutations.items():\n",
    "    probabilistic_mutation_scores[word] = sum([math.prod([ENGLISH_DIST[letter] for letter in edit.upper()]) for edit in edits])"
   ]
  },
  {
   "cell_type": "code",
   "execution_count": 10,
   "id": "7741c6a4-45b8-4790-be2f-4610e18b741d",
   "metadata": {},
   "outputs": [
    {
     "data": {
      "text/plain": [
       "2.728887752999999e-05"
      ]
     },
     "execution_count": 10,
     "metadata": {},
     "output_type": "execute_result"
    }
   ],
   "source": [
    "probabilistic_mutation_scores[\"bares\"]"
   ]
  },
  {
   "cell_type": "code",
   "execution_count": 11,
   "id": "07737b03-24d3-42a6-92e4-ce776646b5de",
   "metadata": {},
   "outputs": [
    {
     "data": {
      "text/plain": [
       "'sears'"
      ]
     },
     "execution_count": 11,
     "metadata": {},
     "output_type": "execute_result"
    }
   ],
   "source": [
    "max(probabilistic_mutation_scores, key=lambda x: probabilistic_mutation_scores[x])"
   ]
  },
  {
   "cell_type": "code",
   "execution_count": 12,
   "id": "8685584c-0bc2-4f1a-85c2-f0556b28d7cf",
   "metadata": {},
   "outputs": [
    {
     "data": {
      "text/plain": [
       "5.0677293113999994e-05"
      ]
     },
     "execution_count": 12,
     "metadata": {},
     "output_type": "execute_result"
    }
   ],
   "source": [
    "probabilistic_mutation_scores[\"sears\"]"
   ]
  },
  {
   "cell_type": "code",
   "execution_count": 13,
   "id": "cdf2f3df-1874-4ece-b62c-40e2d2427c17",
   "metadata": {},
   "outputs": [
    {
     "data": {
      "text/plain": [
       "['bears',\n",
       " 'dears',\n",
       " 'fears',\n",
       " 'gears',\n",
       " 'hears',\n",
       " 'nears',\n",
       " 'pears',\n",
       " 'rears',\n",
       " 'sears',\n",
       " 'tears',\n",
       " 'wears',\n",
       " 'years',\n",
       " 'scars',\n",
       " 'soars',\n",
       " 'spars',\n",
       " 'stars',\n",
       " 'seers',\n",
       " 'seals',\n",
       " 'seams',\n",
       " 'seats']"
      ]
     },
     "execution_count": 13,
     "metadata": {},
     "output_type": "execute_result"
    }
   ],
   "source": [
    "mutations[\"sears\"]"
   ]
  },
  {
   "cell_type": "code",
   "execution_count": 14,
   "id": "24bed74b-df9a-47d5-9a43-471c1eb0229b",
   "metadata": {},
   "outputs": [
    {
     "data": {
      "text/plain": [
       "'bears, dears, fears, gears, hears, nears, pears, rears, sears, tears, wears, years, scars, soars, spars, stars, seers, seals, seams, seats'"
      ]
     },
     "execution_count": 14,
     "metadata": {},
     "output_type": "execute_result"
    }
   ],
   "source": [
    "\", \".join(mutations[\"sears\"])"
   ]
  },
  {
   "cell_type": "code",
   "execution_count": null,
   "id": "41a8aa22-8aeb-4276-b977-ba579567ad4b",
   "metadata": {},
   "outputs": [],
   "source": [
    "values = {}\n",
    "alphabet = list(\"abcdefghijklmnopqrstuvwxyz\")\n",
    "\n",
    "for word in tqdm(words):\n",
    "    for i in range(5):\n",
    "        for char in alphabet:\n",
    "            new = list(word)\n",
    "            new[i] = char\n",
    "            new = \"\".join(new)\n",
    "            \n",
    "            if new in words:\n",
    "                if mutations.get(word) == None:\n",
    "                    mutations[word] = [new]\n",
    "                elif new not in mutations[word]:\n",
    "                    mutations[word].append(new)"
   ]
  }
 ],
 "metadata": {
  "kernelspec": {
   "display_name": "Python 3 (ipykernel)",
   "language": "python",
   "name": "python3"
  },
  "language_info": {
   "codemirror_mode": {
    "name": "ipython",
    "version": 3
   },
   "file_extension": ".py",
   "mimetype": "text/x-python",
   "name": "python",
   "nbconvert_exporter": "python",
   "pygments_lexer": "ipython3",
   "version": "3.9.20"
  }
 },
 "nbformat": 4,
 "nbformat_minor": 5
}
