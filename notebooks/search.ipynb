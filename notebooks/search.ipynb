{
 "cells": [
  {
   "cell_type": "code",
   "execution_count": 22,
   "id": "0d0dc578-428c-400b-9ef1-b71718e27750",
   "metadata": {},
   "outputs": [],
   "source": [
    "from tqdm import tqdm"
   ]
  },
  {
   "cell_type": "code",
   "execution_count": 23,
   "id": "f0177f11-22df-4aef-954c-4031f2f32e3f",
   "metadata": {},
   "outputs": [],
   "source": [
    "with open(\"5-letter-words.txt\", \"r\") as f:\n",
    "    content = f.read().strip()\n",
    "    words = content.split(\"\\n\")"
   ]
  },
  {
   "cell_type": "code",
   "execution_count": 29,
   "id": "d66458d3-5bbf-4b34-b898-d3ebcc8a4b4c",
   "metadata": {},
   "outputs": [
    {
     "name": "stderr",
     "output_type": "stream",
     "text": [
      "100%|██████████████████████████████████████████████████████████████████████████████████████████████████████████████████████████████████████████████████████████████████| 5757/5757 [00:33<00:00, 170.23it/s]\n"
     ]
    }
   ],
   "source": [
    "mutations = {}\n",
    "alphabet = list(\"abcdefghijklmnopqrstuvwxyz\")\n",
    "\n",
    "for word in tqdm(words):\n",
    "    for i in range(5):\n",
    "        for char in alphabet:\n",
    "            new = list(word)\n",
    "            new[i] = char\n",
    "            new = \"\".join(new)\n",
    "            \n",
    "            if new in words:\n",
    "                if mutations.get(word) == None:\n",
    "                    mutations[word] = [new]\n",
    "                elif new not in mutations[word]:\n",
    "                    mutations[word].append(new)"
   ]
  },
  {
   "cell_type": "code",
   "execution_count": 34,
   "id": "1b9a21d1-bd98-4cfb-a159-b8e14a3adde0",
   "metadata": {},
   "outputs": [
    {
     "data": {
      "text/plain": [
       "['spoke', 'smoke', 'stoke', 'spake', 'spike', 'spore']"
      ]
     },
     "execution_count": 34,
     "metadata": {},
     "output_type": "execute_result"
    }
   ],
   "source": [
    "mutations[\"spoke\"]"
   ]
  },
  {
   "cell_type": "code",
   "execution_count": 40,
   "id": "485d94a4-0607-42fd-9d36-eabb20104fd1",
   "metadata": {},
   "outputs": [],
   "source": [
    "def flatten(matrix):\n",
    "    return [item for row in matrix for item in row]"
   ]
  },
  {
   "cell_type": "code",
   "execution_count": 46,
   "id": "43a61a44-fbae-484f-b733-6a0ee53aa8c9",
   "metadata": {},
   "outputs": [],
   "source": [
    "second_order = {}\n",
    "\n",
    "for word, muts in mutations.items():\n",
    "    second_order[word] = [mutations[m] for m in muts]\n",
    "    second_order[word] = list(set(flatten(second_order[word])))"
   ]
  },
  {
   "cell_type": "code",
   "execution_count": 55,
   "id": "f42deb37-c1c6-4475-ad14-4b2c4ee80a10",
   "metadata": {},
   "outputs": [],
   "source": [
    "candidate = \"\"\n",
    "length = 0\n",
    "\n",
    "for word, muts in second_order.items():\n",
    "    if len(muts) > length:\n",
    "        length = len(muts)\n",
    "        candidate = word"
   ]
  },
  {
   "cell_type": "code",
   "execution_count": 56,
   "id": "946ffa1b-a2ee-4cd2-9b8a-016a00c5aa74",
   "metadata": {},
   "outputs": [
    {
     "data": {
      "text/plain": [
       "'cares'"
      ]
     },
     "execution_count": 56,
     "metadata": {},
     "output_type": "execute_result"
    }
   ],
   "source": [
    "candidate"
   ]
  },
  {
   "cell_type": "code",
   "execution_count": 70,
   "id": "aa4b9d73-0bd3-4def-b78a-7e213ee0e959",
   "metadata": {},
   "outputs": [],
   "source": [
    "transpose = lambda words: [\"\".join(chars) for chars in [[words[i][j] for i in range(len(words))] for j in range(len(words[0]))]]"
   ]
  },
  {
   "cell_type": "code",
   "execution_count": 73,
   "id": "10607739-8540-436b-ad4f-e623951bf52a",
   "metadata": {},
   "outputs": [],
   "source": [
    "def candidate_word(candidate):\n",
    "    for word in words:\n",
    "        if word.startswith(candidate):\n",
    "            return True\n",
    "        \n",
    "    return False"
   ]
  },
  {
   "cell_type": "code",
   "execution_count": 79,
   "id": "991137f7-9669-4a5a-a62b-ca4d73eac033",
   "metadata": {},
   "outputs": [],
   "source": [
    "def all_candidates(candidates):\n",
    "    return all(map(candidate_word, candidates))"
   ]
  },
  {
   "cell_type": "code",
   "execution_count": 85,
   "id": "6a2e064c-02d2-4d67-9506-7d27664201d7",
   "metadata": {},
   "outputs": [
    {
     "data": {
      "text/plain": [
       "True"
      ]
     },
     "execution_count": 85,
     "metadata": {},
     "output_type": "execute_result"
    }
   ],
   "source": [
    "all_candidates(transpose([\"aaaaa\", \"bbbbb\"]))"
   ]
  },
  {
   "cell_type": "code",
   "execution_count": 100,
   "id": "92c32c15-474d-422b-9a16-b0fefa03e5b8",
   "metadata": {},
   "outputs": [
    {
     "name": "stderr",
     "output_type": "stream",
     "text": [
      "would:   0%|                                                                                                                                                            | 4/5757 [00:34<13:00:06,  8.14s/it]"
     ]
    },
    {
     "name": "stdout",
     "output_type": "stream",
     "text": [
      "Found 4 letter partial solution:\n",
      "would\n",
      "after\n",
      "steno\n",
      "herds\n",
      "---\n",
      "wash\n",
      "ofte\n",
      "uter\n",
      "lend\n",
      "dros\n",
      "---\n"
     ]
    },
    {
     "name": "stderr",
     "output_type": "stream",
     "text": [
      "other:   0%|▏                                                                                                                                                           | 6/5757 [01:02<17:51:56, 11.18s/it]"
     ]
    },
    {
     "name": "stdout",
     "output_type": "stream",
     "text": [
      "Found 4 letter partial solution:\n",
      "other\n",
      "which\n",
      "early\n",
      "steam\n",
      "---\n",
      "owes\n",
      "that\n",
      "hire\n",
      "ecla\n",
      "rhym\n",
      "---\n"
     ]
    },
    {
     "name": "stderr",
     "output_type": "stream",
     "text": [
      "first:   0%|▎                                                                                                                                                          | 10/5757 [01:43<15:44:00,  9.86s/it]"
     ]
    },
    {
     "name": "stdout",
     "output_type": "stream",
     "text": [
      "Found 4 letter partial solution:\n",
      "first\n",
      "other\n",
      "scene\n",
      "shade\n",
      "---\n",
      "foss\n",
      "itch\n",
      "rhea\n",
      "send\n",
      "tree\n",
      "---\n"
     ]
    },
    {
     "name": "stderr",
     "output_type": "stream",
     "text": [
      "after:   0%|▎                                                                                                                                                          | 12/5757 [02:07<17:22:39, 10.89s/it]"
     ]
    },
    {
     "name": "stdout",
     "output_type": "stream",
     "text": [
      "Found 4 letter partial solution:\n",
      "after\n",
      "write\n",
      "fight\n",
      "usher\n",
      "---\n",
      "awfu\n",
      "fris\n",
      "tigh\n",
      "ethe\n",
      "retr\n",
      "---\n"
     ]
    },
    {
     "name": "stderr",
     "output_type": "stream",
     "text": [
      "found:   0%|▋                                                                                                                                                          | 25/5757 [04:17<16:07:21, 10.13s/it]"
     ]
    },
    {
     "name": "stdout",
     "output_type": "stream",
     "text": [
      "Found 4 letter partial solution:\n",
      "found\n",
      "after\n",
      "utero\n",
      "nerds\n",
      "---\n",
      "faun\n",
      "ofte\n",
      "uter\n",
      "nerd\n",
      "dros\n",
      "---\n"
     ]
    },
    {
     "name": "stderr",
     "output_type": "stream",
     "text": [
      "might:   1%|▊                                                                                                                                                          | 29/5757 [05:05<16:29:38, 10.37s/it]"
     ]
    },
    {
     "name": "stdout",
     "output_type": "stream",
     "text": [
      "Found 4 letter partial solution:\n",
      "might\n",
      "other\n",
      "score\n",
      "shuts\n",
      "---\n",
      "moss\n",
      "itch\n",
      "ghou\n",
      "hert\n",
      "tres\n",
      "---\n"
     ]
    },
    {
     "name": "stderr",
     "output_type": "stream",
     "text": [
      "house:   1%|▊                                                                                                                                                          | 31/5757 [05:33<19:27:26, 12.23s/it]"
     ]
    },
    {
     "name": "stdout",
     "output_type": "stream",
     "text": [
      "Found 4 letter partial solution:\n",
      "house\n",
      "after\n",
      "steer\n",
      "terse\n",
      "---\n",
      "hast\n",
      "ofte\n",
      "uter\n",
      "sees\n",
      "erre\n",
      "---\n"
     ]
    },
    {
     "name": "stderr",
     "output_type": "stream",
     "text": [
      "often:   1%|█                                                                                                                                                          | 41/5757 [07:10<13:50:46,  8.72s/it]"
     ]
    },
    {
     "name": "stdout",
     "output_type": "stream",
     "text": [
      "Found 4 letter partial solution:\n",
      "often\n",
      "write\n",
      "later\n",
      "etext\n",
      "---\n",
      "owle\n",
      "frat\n",
      "tite\n",
      "etex\n",
      "nert\n",
      "---\n"
     ]
    },
    {
     "name": "stderr",
     "output_type": "stream",
     "text": [
      "earth:   1%|█▏                                                                                                                                                         | 42/5757 [07:28<18:06:45, 11.41s/it]"
     ]
    },
    {
     "name": "stdout",
     "output_type": "stream",
     "text": [
      "Found 4 letter partial solution:\n",
      "earth\n",
      "there\n",
      "honor\n",
      "elate\n",
      "---\n",
      "ethe\n",
      "ahol\n",
      "rena\n",
      "trot\n",
      "here\n",
      "---\n"
     ]
    },
    {
     "name": "stderr",
     "output_type": "stream",
     "text": [
      "began:   1%|█▏                                                                                                                                                         | 43/5757 [07:45<20:50:53, 13.13s/it]"
     ]
    },
    {
     "name": "stdout",
     "output_type": "stream",
     "text": [
      "Found 4 letter partial solution:\n",
      "began\n",
      "write\n",
      "arrow\n",
      "neons\n",
      "---\n",
      "bwan\n",
      "erre\n",
      "giro\n",
      "aton\n",
      "news\n",
      "---\n"
     ]
    },
    {
     "name": "stderr",
     "output_type": "stream",
     "text": [
      "light:   1%|█▎                                                                                                                                                         | 47/5757 [08:32<18:00:42, 11.36s/it]"
     ]
    },
    {
     "name": "stdout",
     "output_type": "stream",
     "text": [
      "Found 4 letter partial solution:\n",
      "light\n",
      "other\n",
      "score\n",
      "shuts\n",
      "---\n",
      "loss\n",
      "itch\n",
      "ghou\n",
      "hert\n",
      "tres\n",
      "---\n"
     ]
    },
    {
     "name": "stderr",
     "output_type": "stream",
     "text": [
      "built:   2%|██▌                                                                                                                                                        | 93/5757 [15:42<14:58:07,  9.51s/it]"
     ]
    },
    {
     "name": "stdout",
     "output_type": "stream",
     "text": [
      "Found 4 letter partial solution:\n",
      "built\n",
      "under\n",
      "stone\n",
      "tilts\n",
      "---\n",
      "bust\n",
      "unti\n",
      "idol\n",
      "lent\n",
      "tres\n",
      "---\n"
     ]
    },
    {
     "name": "stderr",
     "output_type": "stream",
     "text": [
      "shows:   2%|██▋                                                                                                                                                       | 101/5757 [16:58<13:26:56,  8.56s/it]"
     ]
    },
    {
     "name": "stdout",
     "output_type": "stream",
     "text": [
      "Found 4 letter partial solution:\n",
      "shows\n",
      "might\n",
      "agree\n",
      "sheep\n",
      "---\n",
      "smas\n",
      "high\n",
      "ogre\n",
      "whee\n",
      "step\n",
      "---\n"
     ]
    },
    {
     "name": "stderr",
     "output_type": "stream",
     "text": [
      "stand:   2%|██▊                                                                                                                                                       | 104/5757 [17:28<14:04:32,  8.96s/it]"
     ]
    },
    {
     "name": "stdout",
     "output_type": "stream",
     "text": [
      "Found 4 letter partial solution:\n",
      "stand\n",
      "their\n",
      "aorta\n",
      "brief\n",
      "---\n",
      "stab\n",
      "thor\n",
      "aeri\n",
      "nite\n",
      "draf\n",
      "---\n"
     ]
    },
    {
     "name": "stderr",
     "output_type": "stream",
     "text": [
      "girls:   2%|██▉                                                                                                                                                       | 112/5757 [18:49<15:00:21,  9.57s/it]"
     ]
    },
    {
     "name": "stdout",
     "output_type": "stream",
     "text": [
      "Found 4 letter partial solution:\n",
      "girls\n",
      "again\n",
      "slice\n",
      "polka\n",
      "---\n",
      "gasp\n",
      "iglo\n",
      "rail\n",
      "lick\n",
      "snea\n",
      "---\n"
     ]
    },
    {
     "name": "stderr",
     "output_type": "stream",
     "text": [
      "hours:   2%|███▏                                                                                                                                                      | 117/5757 [19:37<14:38:51,  9.35s/it]"
     ]
    },
    {
     "name": "stdout",
     "output_type": "stream",
     "text": [
      "Found 4 letter partial solution:\n",
      "hours\n",
      "until\n",
      "scene\n",
      "serge\n",
      "---\n",
      "huss\n",
      "once\n",
      "uter\n",
      "ring\n",
      "slee\n",
      "---\n"
     ]
    },
    {
     "name": "stderr",
     "output_type": "stream",
     "text": [
      "plant:   2%|███▏                                                                                                                                                      | 119/5757 [20:02<16:41:13, 10.66s/it]"
     ]
    },
    {
     "name": "stdout",
     "output_type": "stream",
     "text": [
      "Found 4 letter partial solution:\n",
      "plant\n",
      "later\n",
      "above\n",
      "times\n",
      "---\n",
      "plat\n",
      "labi\n",
      "atom\n",
      "neve\n",
      "tres\n",
      "---\n"
     ]
    },
    {
     "name": "stderr",
     "output_type": "stream",
     "text": [
      "floor:   2%|███▍                                                                                                                                                      | 127/5757 [21:28<17:11:54, 11.00s/it]"
     ]
    },
    {
     "name": "stdout",
     "output_type": "stream",
     "text": [
      "Found 4 letter partial solution:\n",
      "floor\n",
      "large\n",
      "apart\n",
      "meter\n",
      "---\n",
      "flam\n",
      "lape\n",
      "orat\n",
      "ogre\n",
      "retr\n",
      "---\n"
     ]
    },
    {
     "name": "stderr",
     "output_type": "stream",
     "text": [
      "clear:   2%|███▋                                                                                                                                                      | 136/5757 [23:04<16:13:20, 10.39s/it]"
     ]
    },
    {
     "name": "stdout",
     "output_type": "stream",
     "text": [
      "Found 4 letter partial solution:\n",
      "clear\n",
      "large\n",
      "about\n",
      "wider\n",
      "---\n",
      "claw\n",
      "labi\n",
      "erod\n",
      "ague\n",
      "retr\n",
      "---\n"
     ]
    },
    {
     "name": "stderr",
     "output_type": "stream",
     "text": [
      "build:   3%|███▊                                                                                                                                                      | 144/5757 [24:19<13:28:19,  8.64s/it]"
     ]
    },
    {
     "name": "stdout",
     "output_type": "stream",
     "text": [
      "Found 4 letter partial solution:\n",
      "build\n",
      "under\n",
      "stone\n",
      "tilts\n",
      "---\n",
      "bust\n",
      "unti\n",
      "idol\n",
      "lent\n",
      "dres\n",
      "---\n"
     ]
    },
    {
     "name": "stderr",
     "output_type": "stream",
     "text": [
      "blood:   3%|███▉                                                                                                                                                      | 146/5757 [24:44<16:16:23, 10.44s/it]"
     ]
    },
    {
     "name": "stdout",
     "output_type": "stream",
     "text": [
      "Found 4 letter partial solution:\n",
      "blood\n",
      "house\n",
      "attic\n",
      "nuder\n",
      "---\n",
      "bhan\n",
      "lotu\n",
      "outd\n",
      "osie\n",
      "decr\n",
      "---\n"
     ]
    },
    {
     "name": "stderr",
     "output_type": "stream",
     "text": [
      "steps:   3%|████▎                                                                                                                                                     | 161/5757 [27:04<14:53:47,  9.58s/it]"
     ]
    },
    {
     "name": "stdout",
     "output_type": "stream",
     "text": [
      "Found 4 letter partial solution:\n",
      "steps\n",
      "there\n",
      "arrow\n",
      "noise\n",
      "---\n",
      "stan\n",
      "thro\n",
      "eeri\n",
      "pros\n",
      "sewe\n",
      "---\n"
     ]
    },
    {
     "name": "stderr",
     "output_type": "stream",
     "text": [
      "scale:   3%|████▌                                                                                                                                                     | 172/5757 [28:40<12:40:38,  8.17s/it]"
     ]
    },
    {
     "name": "stdout",
     "output_type": "stream",
     "text": [
      "Found 4 letter partial solution:\n",
      "scale\n",
      "their\n",
      "eager\n",
      "write\n",
      "---\n",
      "stew\n",
      "char\n",
      "aegi\n",
      "liet\n",
      "erre\n",
      "---\n"
     ]
    },
    {
     "name": "stderr",
     "output_type": "stream",
     "text": [
      "ships:   3%|████▊                                                                                                                                                     | 178/5757 [29:43<15:28:36,  9.99s/it]"
     ]
    },
    {
     "name": "stdout",
     "output_type": "stream",
     "text": [
      "Found 4 letter partial solution:\n",
      "ships\n",
      "might\n",
      "alloy\n",
      "stone\n",
      "---\n",
      "smas\n",
      "hilt\n",
      "iglo\n",
      "phon\n",
      "stye\n",
      "---\n"
     ]
    },
    {
     "name": "stderr",
     "output_type": "stream",
     "text": [
      "store:   3%|█████                                                                                                                                                     | 188/5757 [31:20<14:36:11,  9.44s/it]"
     ]
    },
    {
     "name": "stdout",
     "output_type": "stream",
     "text": [
      "Found 4 letter partial solution:\n",
      "store\n",
      "water\n",
      "other\n",
      "reeve\n",
      "---\n",
      "swor\n",
      "tate\n",
      "othe\n",
      "reev\n",
      "erre\n",
      "---\n",
      "!!! Found 5 letter solution:\n",
      "store\n",
      "water\n",
      "other\n",
      "reeve\n",
      "erred\n",
      "---\n",
      "swore\n",
      "tater\n",
      "other\n",
      "reeve\n",
      "erred\n",
      "---\n"
     ]
    },
    {
     "name": "stderr",
     "output_type": "stream",
     "text": [
      "fight:   4%|█████▋                                                                                                                                                    | 212/5757 [35:06<14:39:46,  9.52s/it]"
     ]
    },
    {
     "name": "stdout",
     "output_type": "stream",
     "text": [
      "Found 4 letter partial solution:\n",
      "fight\n",
      "other\n",
      "score\n",
      "shuts\n",
      "---\n",
      "foss\n",
      "itch\n",
      "ghou\n",
      "hert\n",
      "tres\n",
      "---\n"
     ]
    },
    {
     "name": "stderr",
     "output_type": "stream",
     "text": [
      "meant:   4%|█████▋                                                                                                                                                    | 213/5757 [35:22<17:20:33, 11.26s/it]"
     ]
    },
    {
     "name": "stdout",
     "output_type": "stream",
     "text": [
      "Found 4 letter partial solution:\n",
      "meant\n",
      "other\n",
      "there\n",
      "heavy\n",
      "---\n",
      "moth\n",
      "ethe\n",
      "ahea\n",
      "nerv\n",
      "trey\n",
      "---\n"
     ]
    },
    {
     "name": "stderr",
     "output_type": "stream",
     "text": [
      "spent:   4%|█████▊                                                                                                                                                    | 215/5757 [35:44<17:15:16, 11.21s/it]"
     ]
    },
    {
     "name": "stdout",
     "output_type": "stream",
     "text": [
      "Found 4 letter partial solution:\n",
      "spent\n",
      "their\n",
      "aorta\n",
      "stirs\n",
      "---\n",
      "stas\n",
      "phot\n",
      "eeri\n",
      "nitr\n",
      "tras\n",
      "---\n"
     ]
    },
    {
     "name": "stderr",
     "output_type": "stream",
     "text": [
      "sharp:   4%|██████▍                                                                                                                                                   | 240/5757 [40:05<14:44:47,  9.62s/it]"
     ]
    },
    {
     "name": "stdout",
     "output_type": "stream",
     "text": [
      "Found 4 letter partial solution:\n",
      "sharp\n",
      "water\n",
      "above\n",
      "times\n",
      "---\n",
      "swat\n",
      "habi\n",
      "atom\n",
      "reve\n",
      "pres\n",
      "---\n"
     ]
    },
    {
     "name": "stderr",
     "output_type": "stream",
     "text": [
      "walls:   4%|██████▌                                                                                                                                                   | 244/5757 [40:49<15:49:22, 10.33s/it]"
     ]
    },
    {
     "name": "stdout",
     "output_type": "stream",
     "text": [
      "Found 4 letter partial solution:\n",
      "walls\n",
      "about\n",
      "there\n",
      "coset\n",
      "---\n",
      "watc\n",
      "abho\n",
      "loes\n",
      "lure\n",
      "stet\n",
      "---\n"
     ]
    },
    {
     "name": "stderr",
     "output_type": "stream",
     "text": [
      "marks:   5%|██████▉                                                                                                                                               | 267/5757 [1:05:21<334:22:36, 219.26s/it]"
     ]
    },
    {
     "name": "stdout",
     "output_type": "stream",
     "text": [
      "Found 4 letter partial solution:\n",
      "marks\n",
      "about\n",
      "table\n",
      "eclat\n",
      "---\n",
      "mate\n",
      "abac\n",
      "robl\n",
      "kula\n",
      "stet\n",
      "---\n"
     ]
    },
    {
     "name": "stderr",
     "output_type": "stream",
     "text": [
      "chair:   5%|███████▏                                                                                                                                                | 274/5757 [1:06:41<42:00:59, 27.59s/it]"
     ]
    },
    {
     "name": "stdout",
     "output_type": "stream",
     "text": [
      "Found 4 letter partial solution:\n",
      "chair\n",
      "house\n",
      "angle\n",
      "feued\n",
      "---\n",
      "chaf\n",
      "hone\n",
      "augu\n",
      "isle\n",
      "reed\n",
      "---\n"
     ]
    },
    {
     "name": "stderr",
     "output_type": "stream",
     "text": [
      "count:   5%|███████▍                                                                                                                                                | 282/5757 [1:08:04<15:36:49, 10.27s/it]"
     ]
    },
    {
     "name": "stdout",
     "output_type": "stream",
     "text": [
      "Found 4 letter partial solution:\n",
      "count\n",
      "after\n",
      "utero\n",
      "servo\n",
      "---\n",
      "caus\n",
      "ofte\n",
      "uter\n",
      "nerv\n",
      "troo\n",
      "---\n"
     ]
    },
    {
     "name": "stderr",
     "output_type": "stream",
     "text": [
      "score:   5%|███████▍                                                                                                                                                | 284/5757 [1:08:34<18:25:51, 12.12s/it]"
     ]
    },
    {
     "name": "stdout",
     "output_type": "stream",
     "text": [
      "Found 4 letter partial solution:\n",
      "score\n",
      "water\n",
      "other\n",
      "reeve\n",
      "---\n",
      "swor\n",
      "cate\n",
      "othe\n",
      "reev\n",
      "erre\n",
      "---\n",
      "!!! Found 5 letter solution:\n",
      "score\n",
      "water\n",
      "other\n",
      "reeve\n",
      "erred\n",
      "---\n",
      "swore\n",
      "cater\n",
      "other\n",
      "reeve\n",
      "erred\n",
      "---\n"
     ]
    },
    {
     "name": "stderr",
     "output_type": "stream",
     "text": [
      "shore:   5%|███████▌                                                                                                                                                | 285/5757 [1:08:54<21:50:59, 14.37s/it]"
     ]
    },
    {
     "name": "stdout",
     "output_type": "stream",
     "text": [
      "Found 4 letter partial solution:\n",
      "shore\n",
      "water\n",
      "other\n",
      "reeve\n",
      "---\n",
      "swor\n",
      "hate\n",
      "othe\n",
      "reev\n",
      "erre\n",
      "---\n",
      "!!! Found 5 letter solution:\n",
      "shore\n",
      "water\n",
      "other\n",
      "reeve\n",
      "erred\n",
      "---\n",
      "swore\n",
      "hater\n",
      "other\n",
      "reeve\n",
      "erred\n",
      "---\n"
     ]
    },
    {
     "name": "stderr",
     "output_type": "stream",
     "text": [
      "angry:   5%|███████▌                                                                                                                                              | 291/5757 [1:25:56<450:51:37, 296.94s/it]"
     ]
    },
    {
     "name": "stdout",
     "output_type": "stream",
     "text": [
      "Found 4 letter partial solution:\n",
      "angry\n",
      "value\n",
      "atoms\n",
      "scope\n",
      "---\n",
      "avas\n",
      "natc\n",
      "gloo\n",
      "rump\n",
      "yese\n",
      "---\n"
     ]
    },
    {
     "name": "stderr",
     "output_type": "stream",
     "text": [
      "share:   5%|███████▋                                                                                                                                              | 296/5757 [1:42:21<511:57:59, 337.50s/it]"
     ]
    },
    {
     "name": "stdout",
     "output_type": "stream",
     "text": [
      "Found 4 letter partial solution:\n",
      "share\n",
      "water\n",
      "after\n",
      "stake\n",
      "---\n",
      "swas\n",
      "haft\n",
      "atta\n",
      "reek\n",
      "erre\n",
      "---\n"
     ]
    },
    {
     "name": "stderr",
     "output_type": "stream",
     "text": [
      "worth:   5%|███████▉                                                                                                                                               | 305/5757 [1:58:56<104:50:31, 69.23s/it]"
     ]
    },
    {
     "name": "stdout",
     "output_type": "stream",
     "text": [
      "Found 4 letter partial solution:\n",
      "worth\n",
      "every\n",
      "named\n",
      "drier\n",
      "---\n",
      "wend\n",
      "ovar\n",
      "remi\n",
      "tree\n",
      "hydr\n",
      "---\n"
     ]
    },
    {
     "name": "stderr",
     "output_type": "stream",
     "text": [
      "towns:   5%|████████▏                                                                                                                                             | 315/5757 [2:31:01<476:06:04, 314.95s/it]"
     ]
    },
    {
     "name": "stdout",
     "output_type": "stream",
     "text": [
      "Found 4 letter partial solution:\n",
      "towns\n",
      "about\n",
      "sorry\n",
      "terse\n",
      "---\n",
      "tast\n",
      "oboe\n",
      "worr\n",
      "nurs\n",
      "stye\n",
      "---\n"
     ]
    },
    {
     "name": "stderr",
     "output_type": "stream",
     "text": [
      "chart:   6%|████████▊                                                                                                                                              | 336/5757 [3:16:59<100:27:35, 66.71s/it]"
     ]
    },
    {
     "name": "stdout",
     "output_type": "stream",
     "text": [
      "Found 4 letter partial solution:\n",
      "chart\n",
      "later\n",
      "above\n",
      "miles\n",
      "---\n",
      "clam\n",
      "habi\n",
      "atol\n",
      "reve\n",
      "tres\n",
      "---\n"
     ]
    },
    {
     "name": "stderr",
     "output_type": "stream",
     "text": [
      "plate:   6%|█████████▎                                                                                                                                              | 351/5757 [3:19:25<51:11:28, 34.09s/it]\n"
     ]
    },
    {
     "ename": "KeyboardInterrupt",
     "evalue": "",
     "output_type": "error",
     "traceback": [
      "\u001b[0;31m---------------------------------------------------------------------------\u001b[0m",
      "\u001b[0;31mKeyboardInterrupt\u001b[0m                         Traceback (most recent call last)",
      "Input \u001b[0;32mIn [100]\u001b[0m, in \u001b[0;36m<module>\u001b[0;34m\u001b[0m\n\u001b[1;32m     20\u001b[0m \u001b[38;5;28;01mfor\u001b[39;00m word2 \u001b[38;5;129;01min\u001b[39;00m words:\n\u001b[1;32m     21\u001b[0m     solution\u001b[38;5;241m.\u001b[39mappend(word2)\n\u001b[0;32m---> 23\u001b[0m     \u001b[38;5;28;01mif\u001b[39;00m \u001b[38;5;129;01mnot\u001b[39;00m all_candidates(solution) \u001b[38;5;129;01mor\u001b[39;00m \u001b[38;5;129;01mnot\u001b[39;00m \u001b[43mall_candidates\u001b[49m\u001b[43m(\u001b[49m\u001b[43mtranspose\u001b[49m\u001b[43m(\u001b[49m\u001b[43msolution\u001b[49m\u001b[43m)\u001b[49m\u001b[43m)\u001b[49m:\n\u001b[1;32m     24\u001b[0m         solution\u001b[38;5;241m.\u001b[39mpop(\u001b[38;5;241m-\u001b[39m\u001b[38;5;241m1\u001b[39m)\n\u001b[1;32m     25\u001b[0m         \u001b[38;5;28;01mcontinue\u001b[39;00m\n",
      "Input \u001b[0;32mIn [79]\u001b[0m, in \u001b[0;36mall_candidates\u001b[0;34m(candidates)\u001b[0m\n\u001b[1;32m      1\u001b[0m \u001b[38;5;28;01mdef\u001b[39;00m \u001b[38;5;21mall_candidates\u001b[39m(candidates):\n\u001b[0;32m----> 2\u001b[0m     \u001b[38;5;28;01mreturn\u001b[39;00m \u001b[38;5;28;43mall\u001b[39;49m\u001b[43m(\u001b[49m\u001b[38;5;28;43mmap\u001b[39;49m\u001b[43m(\u001b[49m\u001b[43mcandidate_word\u001b[49m\u001b[43m,\u001b[49m\u001b[43m \u001b[49m\u001b[43mcandidates\u001b[49m\u001b[43m)\u001b[49m\u001b[43m)\u001b[49m\n",
      "Input \u001b[0;32mIn [73]\u001b[0m, in \u001b[0;36mcandidate_word\u001b[0;34m(candidate)\u001b[0m\n\u001b[1;32m      1\u001b[0m \u001b[38;5;28;01mdef\u001b[39;00m \u001b[38;5;21mcandidate_word\u001b[39m(candidate):\n\u001b[1;32m      2\u001b[0m     \u001b[38;5;28;01mfor\u001b[39;00m word \u001b[38;5;129;01min\u001b[39;00m words:\n\u001b[0;32m----> 3\u001b[0m         \u001b[38;5;28;01mif\u001b[39;00m \u001b[43mword\u001b[49m\u001b[38;5;241;43m.\u001b[39;49m\u001b[43mstartswith\u001b[49m\u001b[43m(\u001b[49m\u001b[43mcandidate\u001b[49m\u001b[43m)\u001b[49m:\n\u001b[1;32m      4\u001b[0m             \u001b[38;5;28;01mreturn\u001b[39;00m \u001b[38;5;28;01mTrue\u001b[39;00m\n\u001b[1;32m      6\u001b[0m     \u001b[38;5;28;01mreturn\u001b[39;00m \u001b[38;5;28;01mFalse\u001b[39;00m\n",
      "\u001b[0;31mKeyboardInterrupt\u001b[0m: "
     ]
    }
   ],
   "source": [
    "four = []\n",
    "five = []\n",
    "\n",
    "pbar = tqdm(words)\n",
    "\n",
    "for word0 in pbar:\n",
    "    solution = [word0]\n",
    "    pbar.set_description(word0)\n",
    "    \n",
    "    if not all_candidates(solution) or not all_candidates(transpose(solution)):\n",
    "        continue        \n",
    "    \n",
    "    for word1 in words:\n",
    "        solution.append(word1)\n",
    "    \n",
    "        if not all_candidates(solution) or not all_candidates(transpose(solution)):\n",
    "            solution.pop(-1)\n",
    "            continue\n",
    "            \n",
    "        for word2 in words:\n",
    "            solution.append(word2)\n",
    "\n",
    "            if not all_candidates(solution) or not all_candidates(transpose(solution)):\n",
    "                solution.pop(-1)\n",
    "                continue\n",
    "                \n",
    "            for word3 in words:\n",
    "                solution.append(word3)\n",
    "\n",
    "                if not all_candidates(solution) or not all_candidates(transpose(solution)):\n",
    "                    solution.pop(-1)\n",
    "                    continue\n",
    "                    \n",
    "                print(\"Found 4 letter partial solution:\")\n",
    "                \n",
    "                for word in solution:\n",
    "                    print(word)\n",
    "                    \n",
    "                print(\"---\")\n",
    "                \n",
    "                for word in transpose(solution):\n",
    "                    print(word)\n",
    "                    \n",
    "                print(\"---\")\n",
    "                \n",
    "                four.append(solution)\n",
    "\n",
    "                    \n",
    "                for word4 in words:\n",
    "                    solution.append(word4)\n",
    "    \n",
    "                    if not all_candidates(solution) or not all_candidates(transpose(solution)):\n",
    "                        solution.pop(-1)\n",
    "                        continue\n",
    "                \n",
    "                    print(\"!!! Found 5 letter solution:\")\n",
    "                \n",
    "                    for word in solution:\n",
    "                        print(word)\n",
    "\n",
    "                    print(\"---\")\n",
    "\n",
    "                    for word in transpose(solution):\n",
    "                        print(word)\n",
    "\n",
    "                    print(\"---\")\n",
    "\n",
    "                    five.append(solution)\n",
    "                    \n",
    "                    "
   ]
  },
  {
   "cell_type": "code",
   "execution_count": null,
   "id": "d9e48bda-c95d-4a29-b99d-dd25d1839624",
   "metadata": {},
   "outputs": [],
   "source": []
  },
  {
   "cell_type": "code",
   "execution_count": null,
   "id": "54cd1b0f-3fa6-4ad4-aada-a2a59627fad9",
   "metadata": {},
   "outputs": [],
   "source": []
  }
 ],
 "metadata": {
  "kernelspec": {
   "display_name": "Python 3 (ipykernel)",
   "language": "python",
   "name": "python3"
  },
  "language_info": {
   "codemirror_mode": {
    "name": "ipython",
    "version": 3
   },
   "file_extension": ".py",
   "mimetype": "text/x-python",
   "name": "python",
   "nbconvert_exporter": "python",
   "pygments_lexer": "ipython3",
   "version": "3.9.20"
  }
 },
 "nbformat": 4,
 "nbformat_minor": 5
}
